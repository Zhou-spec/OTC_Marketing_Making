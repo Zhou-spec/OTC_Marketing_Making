{
 "cells": [
  {
   "cell_type": "code",
   "execution_count": 1,
   "metadata": {},
   "outputs": [],
   "source": [
    "from functions import *\n",
    "import torch\n",
    "\n",
    "    \n",
    "net = Net(3, 6)\n",
    "T = torch.tensor([1])\n",
    "dt = torch.tensor([0.01])\n",
    "S0 = torch.tensor([100])\n",
    "q = torch.tensor([0.01])\n",
    "A = torch.tensor([3, 4, 5])\n",
    "B = torch.tensor([0.01, 0.01, 0.01])\n",
    "Q = torch.tensor([100])\n",
    "z = torch.tensor([1, 2, 3])\n",
    "delta = torch.tensor([0.01])\n",
    "gamma = torch.tensor([0.01])\n",
    "sigma = torch.tensor([0.01])\n",
    "\n",
    "# use cuda if available\n",
    "device = torch.device(\"cuda:0\" if torch.cuda.is_available() else \"cpu\")\n",
    "net.to(device)\n",
    "T = T.to(device)\n",
    "dt = dt.to(device)\n",
    "S0 = S0.to(device)\n",
    "q = q.to(device)\n",
    "A = A.to(device)\n",
    "B = B.to(device)\n",
    "Q = Q.to(device)\n",
    "z = z.to(device)\n",
    "delta = delta.to(device)\n",
    "gamma = gamma.to(device)\n",
    "sigma = sigma.to(device)"
   ]
  },
  {
   "cell_type": "code",
   "execution_count": 2,
   "metadata": {},
   "outputs": [
    {
     "data": {
      "text/plain": [
       "Net(\n",
       "  (fc1): Linear(in_features=3, out_features=512, bias=True)\n",
       "  (fc2): Linear(in_features=512, out_features=256, bias=True)\n",
       "  (fc3): Linear(in_features=256, out_features=128, bias=True)\n",
       "  (fc4): Linear(in_features=128, out_features=64, bias=True)\n",
       "  (fc5): Linear(in_features=64, out_features=1, bias=True)\n",
       "  (relu): ReLU()\n",
       ")"
      ]
     },
     "execution_count": 2,
     "metadata": {},
     "output_type": "execute_result"
    }
   ],
   "source": [
    "policy_net = Net(3, 6)\n",
    "value_net = Net(3, 1)\n",
    "policy_net.to(device)\n",
    "value_net.to(device)"
   ]
  },
  {
   "cell_type": "code",
   "execution_count": 3,
   "metadata": {},
   "outputs": [],
   "source": [
    "S, buy_orders, sell_orders, q, t, bid_vectors, ask_vectors = Test_Data_Simulation_Stochastic(T, dt, sigma, S0, policy_net, A, B, gamma, z)"
   ]
  },
  {
   "cell_type": "code",
   "execution_count": 4,
   "metadata": {},
   "outputs": [
    {
     "data": {
      "text/plain": [
       "tensor([-7.5875, -2.5408, -4.1090, -2.7285, -2.4919, -5.6620, -2.9564, -4.0969,\n",
       "        -4.5362, -5.1323, -5.5316, -3.0288, -2.6366, -6.3028, -3.4439, -2.9875,\n",
       "        -5.3125, -4.9088, -6.0951, -2.3368, -4.5408, -5.1248, -3.5844, -6.7986,\n",
       "        -2.7194, -3.2942, -7.9807, -3.2720, -4.8264, -4.7399, -2.1282, -3.3936,\n",
       "        -3.6182, -5.3389, -4.5723, -4.5327, -2.9593, -2.8014, -4.0396, -5.4292,\n",
       "        -4.2116, -2.8150, -4.0691, -3.1878, -5.3028, -5.0630, -4.4935, -4.8417,\n",
       "        -4.2808, -6.7766, -5.6428, -5.2572, -2.3303, -8.2016, -3.7184, -3.6828,\n",
       "        -4.8931, -5.7831, -7.7189, -2.9431, -4.2420, -5.1556, -4.3878, -5.3902,\n",
       "        -3.5326, -4.2669, -2.5768, -3.2487, -5.7830, -5.3301, -4.6436, -5.1412,\n",
       "        -2.9616, -7.7474, -6.2604, -7.5793, -7.8735, -4.0485, -3.3032, -4.4068,\n",
       "        -4.9887, -4.1654, -3.8330, -4.6948, -4.5112, -4.7967, -3.9964, -6.8502,\n",
       "        -4.7706, -6.6547, -3.8645, -4.1646, -4.1440, -3.9500, -4.2391, -5.6295,\n",
       "        -2.8709, -3.3287, -2.2387,  0.0000], device='cuda:0',\n",
       "       grad_fn=<CopySlices>)"
      ]
     },
     "execution_count": 4,
     "metadata": {},
     "output_type": "execute_result"
    }
   ],
   "source": [
    "probability(policy_net, S, q, t, bid_vectors, ask_vectors, T, dt, B, gamma, z)"
   ]
  },
  {
   "cell_type": "code",
   "execution_count": 5,
   "metadata": {},
   "outputs": [
    {
     "data": {
      "text/plain": [
       "tensor(45.0459, device='cuda:0', grad_fn=<DivBackward0>)"
      ]
     },
     "execution_count": 5,
     "metadata": {},
     "output_type": "execute_result"
    }
   ],
   "source": [
    "policy_loss(policy_net, value_net, S, q, t, buy_orders, sell_orders, bid_vectors, ask_vectors, T, dt, A, B, gamma, delta, z, Q)"
   ]
  },
  {
   "cell_type": "code",
   "execution_count": 6,
   "metadata": {},
   "outputs": [
    {
     "data": {
      "text/plain": [
       "tensor([-39.2813, -12.5963, -12.5952, -12.5944, -12.5941, -12.5936, -12.5930,\n",
       "        -12.5924, -12.5915, -12.5910, -18.8366, -12.5005, -12.4999, -12.4991,\n",
       "        -12.4983, -12.4973, -12.4962, -27.9661, -12.5853, -16.0391, -12.8328,\n",
       "        -12.8318, -12.8310, -39.3109, -12.5821, -12.5813, -39.2257, -12.4623,\n",
       "        -12.4615, -12.4610, -18.8155, -12.3986, -12.3982, -12.3975, -12.3970,\n",
       "        -12.3965, -12.3955, -12.3950, -12.3945, -12.3938, -20.9788, -12.4533,\n",
       "        -12.4524, -12.4518, -12.4514, -12.4506, -12.4499, -12.4488, -27.9041,\n",
       "        -16.0547, -12.7214, -12.7212, -15.6497, -13.0343, -21.4311, -13.1255,\n",
       "        -39.5971, -28.2584, -13.0305, -28.5222, -13.2338, -13.2328, -13.2319,\n",
       "        -19.1694, -13.0259, -13.0253, -13.0248, -15.3377, -39.8592, -13.0229,\n",
       "        -13.0220, -17.4501, -17.3330, -12.7960, -12.7952, -12.7950, -12.7944,\n",
       "        -12.7935, -12.7928, -12.7923, -12.7917, -12.7912, -12.7902, -12.7893,\n",
       "        -12.7888, -12.7882, -12.7879, -12.7870, -17.1885, -12.7023, -12.7019,\n",
       "        -12.7013, -12.7008, -12.7004, -12.7004, -12.7002, -15.4952, -19.0429,\n",
       "        -12.7826,   0.0000], device='cuda:0', grad_fn=<CopySlices>)"
      ]
     },
     "execution_count": 6,
     "metadata": {},
     "output_type": "execute_result"
    }
   ],
   "source": [
    "def probability(policy_net, S, q, t, buy_orders, sell_orders, T, dt, A, B, gamma, z, Q):\n",
    "    device = torch.device(\"cuda\" if torch.cuda.is_available() else \"cpu\")\n",
    "    N = int(T / dt)\n",
    "    p = torch.zeros(N, device = device)\n",
    "    for i in range(N - 1):\n",
    "        mean = policy_net.forward(t[i], S[i], q[i])\n",
    "        hold1 = z * buy_orders[i]\n",
    "        hold2 = z * sell_orders[i]\n",
    "        hold = torch.cat((hold1, hold2), 0)\n",
    "        diag = torch.cat((gamma / (2 * z * B), gamma / (2 * z * B)), 0)\n",
    "        cov = torch.diag(diag)\n",
    "        p[i] = torch.distributions.multivariate_normal.MultivariateNormal(mean, cov).log_prob(hold)\n",
    "    return p\n",
    "\n",
    "\n",
    "probability(policy_net, S, q, t, buy_orders, sell_orders, T, dt, A, B, gamma, z, Q)"
   ]
  },
  {
   "cell_type": "code",
   "execution_count": 7,
   "metadata": {},
   "outputs": [
    {
     "ename": "ValueError",
     "evalue": "only one element tensors can be converted to Python scalars",
     "output_type": "error",
     "traceback": [
      "\u001b[1;31m---------------------------------------------------------------------------\u001b[0m",
      "\u001b[1;31mValueError\u001b[0m                                Traceback (most recent call last)",
      "Cell \u001b[1;32mIn[7], line 3\u001b[0m\n\u001b[0;32m      1\u001b[0m res \u001b[39m=\u001b[39m ResNet_Conv(\u001b[39m3\u001b[39m, \u001b[39m4\u001b[39m, \u001b[39m1\u001b[39m, \u001b[39m16\u001b[39m, \u001b[39m3\u001b[39m)\n\u001b[0;32m      2\u001b[0m res\u001b[39m.\u001b[39mto(device)\n\u001b[1;32m----> 3\u001b[0m res\u001b[39m.\u001b[39;49mforward(T, S0, q)\n",
      "File \u001b[1;32mc:\\Users\\specf\\OneDrive\\Desktop\\OTC_Marketing_Making\\functions\\network.py:141\u001b[0m, in \u001b[0;36mResNet_Conv.forward\u001b[1;34m(self, t, S, q)\u001b[0m\n\u001b[0;32m    139\u001b[0m \u001b[39mdef\u001b[39;00m \u001b[39mforward\u001b[39m(\u001b[39mself\u001b[39m, t, S, q):\n\u001b[0;32m    140\u001b[0m     device \u001b[39m=\u001b[39m torch\u001b[39m.\u001b[39mdevice(\u001b[39m\"\u001b[39m\u001b[39mcuda\u001b[39m\u001b[39m\"\u001b[39m \u001b[39mif\u001b[39;00m torch\u001b[39m.\u001b[39mcuda\u001b[39m.\u001b[39mis_available() \u001b[39melse\u001b[39;00m \u001b[39m\"\u001b[39m\u001b[39mcpu\u001b[39m\u001b[39m\"\u001b[39m)\n\u001b[1;32m--> 141\u001b[0m     x \u001b[39m=\u001b[39m torch\u001b[39m.\u001b[39;49mtensor([t, S, q], device \u001b[39m=\u001b[39;49m device)        \n\u001b[0;32m    142\u001b[0m     out \u001b[39m=\u001b[39m \u001b[39mself\u001b[39m\u001b[39m.\u001b[39mfc(x)\n\u001b[0;32m    143\u001b[0m     out \u001b[39m=\u001b[39m out\u001b[39m.\u001b[39munsqueeze(\u001b[39m0\u001b[39m)\n",
      "\u001b[1;31mValueError\u001b[0m: only one element tensors can be converted to Python scalars"
     ]
    }
   ],
   "source": [
    "res = ResNet_Conv(3, 4, 1, 16, 3)\n",
    "res.to(device)\n",
    "res.forward(T, S0, q)"
   ]
  },
  {
   "cell_type": "code",
   "execution_count": null,
   "metadata": {},
   "outputs": [],
   "source": [
    "\n",
    "y = net.forward(T, S0, q)\n"
   ]
  },
  {
   "cell_type": "code",
   "execution_count": null,
   "metadata": {},
   "outputs": [
    {
     "data": {
      "text/plain": [
       "tensor([-5.6179], device='cuda:0', grad_fn=<AddBackward0>)"
      ]
     },
     "execution_count": 43,
     "metadata": {},
     "output_type": "execute_result"
    }
   ],
   "source": [
    "y"
   ]
  },
  {
   "cell_type": "code",
   "execution_count": null,
   "metadata": {},
   "outputs": [
    {
     "data": {
      "text/plain": [
       "tensor(697.9450, device='cuda:0', grad_fn=<MulBackward0>)"
      ]
     },
     "execution_count": 44,
     "metadata": {},
     "output_type": "execute_result"
    }
   ],
   "source": [
    "S, buy_orders, sell_orders, q, t = Train_Data_Simulation(1, 0.01, 0.1, S0, A, B, Q, z, delta, gamma, net)\n",
    "total_loss(net, S, q, t, 0.001, buy_orders, sell_orders, z, delta, Q, A, B, gamma)"
   ]
  },
  {
   "cell_type": "code",
   "execution_count": null,
   "metadata": {},
   "outputs": [
    {
     "name": "stdout",
     "output_type": "stream",
     "text": [
      "573.9168701171875\n",
      "758.518310546875\n",
      "572.6505737304688\n",
      "550.671875\n"
     ]
    },
    {
     "ename": "KeyboardInterrupt",
     "evalue": "",
     "output_type": "error",
     "traceback": [
      "\u001b[1;31m---------------------------------------------------------------------------\u001b[0m",
      "\u001b[1;31mKeyboardInterrupt\u001b[0m                         Traceback (most recent call last)",
      "Cell \u001b[1;32mIn[3], line 3\u001b[0m\n\u001b[0;32m      1\u001b[0m optimizer \u001b[39m=\u001b[39m torch\u001b[39m.\u001b[39moptim\u001b[39m.\u001b[39mAdam(net\u001b[39m.\u001b[39mparameters(), lr\u001b[39m=\u001b[39m\u001b[39m0.001\u001b[39m)\n\u001b[0;32m      2\u001b[0m \u001b[39mfor\u001b[39;00m epoch \u001b[39min\u001b[39;00m \u001b[39mrange\u001b[39m(\u001b[39m200\u001b[39m):\n\u001b[1;32m----> 3\u001b[0m     S, buy_orders, sell_orders, q, t \u001b[39m=\u001b[39m Train_Data_Simulation(\u001b[39m1\u001b[39;49m, \u001b[39m0.01\u001b[39;49m, \u001b[39m0.1\u001b[39;49m, S0, A, B, Q, z, delta, gamma, net)\n\u001b[0;32m      4\u001b[0m     loss \u001b[39m=\u001b[39m total_loss(net, S, q, t, \u001b[39m0.001\u001b[39m, buy_orders, sell_orders, z, delta, Q, A, B, gamma)\n\u001b[0;32m      5\u001b[0m     \u001b[39mprint\u001b[39m(loss\u001b[39m.\u001b[39mitem())\n",
      "File \u001b[1;32mc:\\Users\\specf\\OneDrive\\Desktop\\OTC_Marketing_Making\\functions\\simulation.py:107\u001b[0m, in \u001b[0;36mTrain_Data_Simulation\u001b[1;34m(T, dt, sigma, S0, A, B, Q, z, delta, gamma, net)\u001b[0m\n\u001b[0;32m    105\u001b[0m t \u001b[39m=\u001b[39m torch\u001b[39m.\u001b[39mzeros(N, device \u001b[39m=\u001b[39m device)\n\u001b[0;32m    106\u001b[0m \u001b[39mfor\u001b[39;00m i \u001b[39min\u001b[39;00m \u001b[39mrange\u001b[39m(N \u001b[39m-\u001b[39m \u001b[39m1\u001b[39m):\n\u001b[1;32m--> 107\u001b[0m     bid_vector, ask_vector \u001b[39m=\u001b[39m Gaussian_Policy(t[i], S[i], q[i], net, A, B, Q, z, delta, gamma)\n\u001b[0;32m    108\u001b[0m     buy_orders[i], sell_orders[i] \u001b[39m=\u001b[39m Market_Order_Generator(bid_vector, ask_vector, A, B, dt)\n\u001b[0;32m    109\u001b[0m     \u001b[39mfor\u001b[39;00m j \u001b[39min\u001b[39;00m \u001b[39mrange\u001b[39m(\u001b[39mlen\u001b[39m(A)):\n",
      "File \u001b[1;32mc:\\Users\\specf\\OneDrive\\Desktop\\OTC_Marketing_Making\\functions\\simulation.py:65\u001b[0m, in \u001b[0;36mGaussian_Policy\u001b[1;34m(t, S, q, net, A, B, Q, z, delta, gamma)\u001b[0m\n\u001b[0;32m     62\u001b[0m ask_vector \u001b[39m=\u001b[39m torch\u001b[39m.\u001b[39mzeros(N, device \u001b[39m=\u001b[39m device)\n\u001b[0;32m     64\u001b[0m \u001b[39mfor\u001b[39;00m i \u001b[39min\u001b[39;00m \u001b[39mrange\u001b[39m(N):\n\u001b[1;32m---> 65\u001b[0m     bid_mean \u001b[39m=\u001b[39m (A[i] \u001b[39m/\u001b[39m (\u001b[39m2\u001b[39m \u001b[39m*\u001b[39m B[i])) \u001b[39m-\u001b[39m (net\u001b[39m.\u001b[39mforward(t, S, q \u001b[39m+\u001b[39m z[i]) \u001b[39m-\u001b[39m net\u001b[39m.\u001b[39mforward(t, S, q) \u001b[39m+\u001b[39m z[i] \u001b[39m*\u001b[39m (S \u001b[39m+\u001b[39m delta \u001b[39m*\u001b[39m h(q, Q))) \u001b[39m/\u001b[39m (\u001b[39m2\u001b[39m \u001b[39m*\u001b[39m z[i])\n\u001b[0;32m     66\u001b[0m     ask_mean \u001b[39m=\u001b[39m (A[i] \u001b[39m/\u001b[39m (\u001b[39m2\u001b[39m \u001b[39m*\u001b[39m B[i])) \u001b[39m-\u001b[39m (net\u001b[39m.\u001b[39mforward(t, S, q \u001b[39m-\u001b[39m z[i]) \u001b[39m-\u001b[39m net\u001b[39m.\u001b[39mforward(t, S, q) \u001b[39m-\u001b[39m z[i] \u001b[39m*\u001b[39m (S \u001b[39m-\u001b[39m delta \u001b[39m*\u001b[39m h(q, Q))) \u001b[39m/\u001b[39m (\u001b[39m2\u001b[39m \u001b[39m*\u001b[39m z[i])\n\u001b[0;32m     67\u001b[0m     variance \u001b[39m=\u001b[39m gamma \u001b[39m/\u001b[39m (\u001b[39m2\u001b[39m \u001b[39m*\u001b[39m z[i] \u001b[39m*\u001b[39m B[i])\n",
      "File \u001b[1;32mc:\\Users\\specf\\OneDrive\\Desktop\\OTC_Marketing_Making\\functions\\simulation.py:27\u001b[0m, in \u001b[0;36mh\u001b[1;34m(q, Q)\u001b[0m\n\u001b[0;32m     21\u001b[0m \u001b[39mdef\u001b[39;00m \u001b[39mh\u001b[39m(q, Q):\n\u001b[0;32m     22\u001b[0m     \u001b[39m# q: the current inventory\u001b[39;00m\n\u001b[0;32m     23\u001b[0m     \u001b[39m# Q: the maximum inventory\u001b[39;00m\n\u001b[0;32m     24\u001b[0m     \u001b[39m# this function is used to decide weather to externalize the inventory or not\u001b[39;00m\n\u001b[0;32m     26\u001b[0m     device \u001b[39m=\u001b[39m torch\u001b[39m.\u001b[39mdevice(\u001b[39m\"\u001b[39m\u001b[39mcuda\u001b[39m\u001b[39m\"\u001b[39m \u001b[39mif\u001b[39;00m torch\u001b[39m.\u001b[39mcuda\u001b[39m.\u001b[39mis_available() \u001b[39melse\u001b[39;00m \u001b[39m\"\u001b[39m\u001b[39mcpu\u001b[39m\u001b[39m\"\u001b[39m)\n\u001b[1;32m---> 27\u001b[0m     \u001b[39mif\u001b[39;00m q \u001b[39m<\u001b[39m Q \u001b[39mand\u001b[39;00m q \u001b[39m>\u001b[39m \u001b[39m-\u001b[39;49m \u001b[39m1\u001b[39;49m \u001b[39m*\u001b[39;49m Q:\n\u001b[0;32m     28\u001b[0m         \u001b[39mreturn\u001b[39;00m torch\u001b[39m.\u001b[39mtensor([\u001b[39m0\u001b[39m], device \u001b[39m=\u001b[39m device)\n\u001b[0;32m     29\u001b[0m     \u001b[39melse\u001b[39;00m:\n",
      "\u001b[1;31mKeyboardInterrupt\u001b[0m: "
     ]
    }
   ],
   "source": [
    "optimizer = torch.optim.Adam(net.parameters(), lr=0.001)\n",
    "for epoch in range(200):\n",
    "    S, buy_orders, sell_orders, q, t = Train_Data_Simulation(1, 0.01, 0.1, S0, A, B, Q, z, delta, gamma, net)\n",
    "    loss = total_loss(net, S, q, t, 0.001, buy_orders, sell_orders, z, delta, Q, A, B, gamma)\n",
    "    print(loss.item())\n",
    "    optimizer.zero_grad()\n",
    "    loss.backward()\n",
    "    optimizer.step()"
   ]
  }
 ],
 "metadata": {
  "kernelspec": {
   "display_name": "qids-2023-comp",
   "language": "python",
   "name": "python3"
  },
  "language_info": {
   "codemirror_mode": {
    "name": "ipython",
    "version": 3
   },
   "file_extension": ".py",
   "mimetype": "text/x-python",
   "name": "python",
   "nbconvert_exporter": "python",
   "pygments_lexer": "ipython3",
   "version": "3.9.16"
  },
  "orig_nbformat": 4
 },
 "nbformat": 4,
 "nbformat_minor": 2
}
