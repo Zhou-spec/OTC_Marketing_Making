{
 "cells": [
  {
   "cell_type": "code",
   "execution_count": 1,
   "metadata": {},
   "outputs": [],
   "source": [
    "from functions import *\n",
    "import torch\n",
    "\n",
    "T = torch.tensor([1])\n",
    "dt = torch.tensor([0.01])\n",
    "S0 = torch.tensor([1])\n",
    "q = torch.tensor([0.01])\n",
    "A = torch.tensor([5, 5, 5])\n",
    "B = torch.tensor([1, 1, 1])\n",
    "Q = torch.tensor([300])\n",
    "z = torch.tensor([10, 20, 30])\n",
    "delta = torch.tensor([0.01])\n",
    "gamma = torch.tensor([0.01])\n",
    "sigma = torch.tensor([0.05])\n",
    "\n",
    "# use cuda if available\n",
    "device = torch.device(\"cuda:0\" if torch.cuda.is_available() else \"cpu\")\n",
    "T = T.to(device)\n",
    "dt = dt.to(device)\n",
    "S0 = S0.to(device)\n",
    "q = q.to(device)\n",
    "A = A.to(device)\n",
    "B = B.to(device)\n",
    "Q = Q.to(device)\n",
    "z = z.to(device)\n",
    "delta = delta.to(device)\n",
    "gamma = gamma.to(device)\n",
    "sigma = sigma.to(device)"
   ]
  },
  {
   "cell_type": "code",
   "execution_count": 4,
   "metadata": {},
   "outputs": [
    {
     "name": "stdout",
     "output_type": "stream",
     "text": [
      "epoch:  0 loss:  38.88805389404297\n",
      "epoch:  1 loss:  18455.65234375\n",
      "epoch:  2 loss:  55.02914810180664\n",
      "epoch:  3 loss:  33.3736686706543\n",
      "epoch:  4 loss:  37.58096694946289\n",
      "epoch:  5 loss:  22.276412963867188\n",
      "epoch:  6 loss:  31.814891815185547\n",
      "epoch:  7 loss:  50.69807052612305\n",
      "epoch:  8 loss:  34.57612609863281\n",
      "epoch:  9 loss:  35.5031623840332\n",
      "epoch:  10 loss:  39.32980728149414\n",
      "epoch:  11 loss:  39.12005615234375\n",
      "epoch:  12 loss:  48.12982940673828\n",
      "epoch:  13 loss:  48.14130401611328\n",
      "epoch:  14 loss:  22.061229705810547\n",
      "epoch:  15 loss:  25.777503967285156\n",
      "epoch:  16 loss:  25.27523422241211\n",
      "epoch:  17 loss:  59.64814376831055\n",
      "epoch:  18 loss:  15.156120300292969\n",
      "epoch:  19 loss:  49.42002868652344\n"
     ]
    }
   ],
   "source": [
    "# test the policy iteration\n",
    "net = Net(3, 1, nn.ReLU()) # this is the policy net\n",
    "net.to(device)\n",
    "optimizer = torch.optim.Adam(net.parameters(), lr=0.01)\n",
    "losses_policy_iteration = []\n",
    "for epoch in range(20):\n",
    "    S, buy_orders, sell_orders, q, t, bid_vectors, ask_vectors = Train_Data_Simulation(T, dt, sigma, S0, A, B, Q, z, delta, gamma, net)\n",
    "    loss = total_loss(net, S, q, t, dt, buy_orders, sell_orders, z, delta, Q, A, B, gamma)\n",
    "    losses_policy_iteration.append(loss.item())\n",
    "    optimizer.zero_grad()\n",
    "    loss.backward()\n",
    "    optimizer.step()\n",
    "    print('epoch: ', epoch, 'loss: ', loss.item())\n",
    "    "
   ]
  },
  {
   "cell_type": "code",
   "execution_count": 11,
   "metadata": {},
   "outputs": [],
   "source": [
    "# test the trained net on the simulation data\n",
    "from functions import *\n",
    "trajectory = []\n",
    "for _ in range(10):\n",
    "    S, buy_orders, sell_orders, q, t, bid_vectors, ask_vectors = Train_Data_Simulation(T, dt, sigma, S0, A, B, Q, z, delta, gamma, net)\n",
    "    N = int(T / dt)\n",
    "    r = torch.zeros(N, device = device)\n",
    "    for i in range(N - 1):\n",
    "        hold1 = z * buy_orders[i] * bid_vectors[i]\n",
    "        hold2 = z * sell_orders[i] * ask_vectors[i]\n",
    "        r[i] = torch.sum(hold1) + torch.sum(hold2)\n",
    "        r[i] = r[i] + (q[i + 1] * S[i + 1] - q[i] * S[i]) - delta * h(q[i], Q) * (q[i + 1] - q[i])\n",
    "\n",
    "    trajectory.append(torch.sum(r).item())\n",
    "    "
   ]
  },
  {
   "cell_type": "code",
   "execution_count": 13,
   "metadata": {},
   "outputs": [
    {
     "data": {
      "image/png": "[encoded data removed]",
      "text/plain": [
       "<Figure size 640x480 with 1 Axes>"
      ]
     },
     "metadata": {},
     "output_type": "display_data"
    }
   ],
   "source": [
    "# draw histogram about the trajectory\n",
    "import matplotlib.pyplot as plt\n",
    "plt.hist(trajectory, bins = 20)\n",
    "plt.show()\n",
    "\n"
   ]
  },
  {
   "cell_type": "code",
   "execution_count": 16,
   "metadata": {},
   "outputs": [
    {
     "name": "stdout",
     "output_type": "stream",
     "text": [
      "epoch:  0 loss:  6794.853515625\n",
      "epoch:  1 loss:  3131.518798828125\n",
      "epoch:  2 loss:  5849.8134765625\n",
      "epoch:  3 loss:  2256.614013671875\n",
      "epoch:  4 loss:  4546.5625\n",
      "epoch:  5 loss:  3699.296875\n",
      "epoch:  6 loss:  4991.599609375\n",
      "epoch:  7 loss:  12795.5791015625\n",
      "epoch:  8 loss:  3758.312744140625\n",
      "epoch:  9 loss:  4100.73779296875\n",
      "epoch:  10 loss:  2579.586669921875\n",
      "epoch:  11 loss:  5823.0869140625\n",
      "epoch:  12 loss:  3742.810791015625\n",
      "epoch:  13 loss:  2971.39208984375\n",
      "epoch:  14 loss:  2314.858642578125\n",
      "epoch:  15 loss:  4550.513671875\n",
      "epoch:  16 loss:  2846.587646484375\n",
      "epoch:  17 loss:  2710.486328125\n",
      "epoch:  18 loss:  4431.3271484375\n",
      "epoch:  19 loss:  6411.52197265625\n"
     ]
    }
   ],
   "source": [
    "# test the actor-critic method\n",
    "\n",
    "policy_net = Net(3, 6, nn.Sigmoid()) \n",
    "value_net = Net(3, 1, nn.ReLU())\n",
    "policy_net.to(device)\n",
    "value_net.to(device)\n",
    "optimizer_policy = torch.optim.Adam(policy_net.parameters(), lr=0.01)\n",
    "optimizer_value = torch.optim.Adam(value_net.parameters(), lr=0.01)\n",
    "losses_actor_critic = []\n",
    "for epoch in range(20):\n",
    "    S, buy_orders, sell_orders, q, t, bid_vectors, ask_vectors = Test_Data_Simulation_Stochastic(T, dt, sigma, S0, policy_net, A, B, gamma, z)\n",
    "    v_loss = critic_loss(policy_net, value_net, S, q, t, buy_orders, sell_orders, T, dt, A, B, gamma, delta, z, Q)\n",
    "    p_loss = policy_loss(policy_net, value_net, S, q, t, buy_orders, sell_orders, bid_vectors, ask_vectors, T, dt, A, B, gamma, delta, z, Q)\n",
    "    # when we train the policy net, we need to detach the value net\n",
    "    loss = v_loss + p_loss\n",
    "    losses_actor_critic.append(loss.item())\n",
    "    optimizer_policy.zero_grad()\n",
    "    optimizer_value.zero_grad()\n",
    "    loss.backward()\n",
    "    optimizer_policy.step()\n",
    "    optimizer_value.step()\n",
    "    print('epoch: ', epoch, 'loss: ', loss.item())\n",
    "\n",
    "    \n",
    "    \n",
    "    "
   ]
  },
  {
   "cell_type": "code",
   "execution_count": 17,
   "metadata": {},
   "outputs": [],
   "source": [
    "trajectory_actor_critic = []\n",
    "for _ in range(10):\n",
    "    S, buy_orders, sell_orders, q, t, bid_vectors, ask_vectors = Test_Data_Simulation_Stochastic(T, dt, sigma, S0, policy_net, A, B, gamma, z)\n",
    "    N = int(T / dt)\n",
    "    r = torch.zeros(N, device = device)\n",
    "    for i in range(N - 1):\n",
    "        hold1 = z * buy_orders[i] * bid_vectors[i]\n",
    "        hold2 = z * sell_orders[i] * ask_vectors[i]\n",
    "        r[i] = torch.sum(hold1) + torch.sum(hold2)\n",
    "        r[i] = r[i] + (q[i + 1] * S[i + 1] - q[i] * S[i]) - delta * h(q[i], Q) * (q[i + 1] - q[i])\n",
    "\n",
    "    trajectory_actor_critic.append(torch.sum(r).item())"
   ]
  },
  {
   "cell_type": "code",
   "execution_count": 19,
   "metadata": {},
   "outputs": [
    {
     "data": {
      "image/png": "[encoded data removed]",
      "text/plain": [
       "<Figure size 640x480 with 1 Axes>"
      ]
     },
     "metadata": {},
     "output_type": "display_data"
    }
   ],
   "source": [
    "plt.hist(trajectory_actor_critic, bins = 20)\n",
    "plt.show()"
   ]
  }
 ],
 "metadata": {
  "kernelspec": {
   "display_name": "qids-2023-comp",
   "language": "python",
   "name": "python3"
  },
  "language_info": {
   "codemirror_mode": {
    "name": "ipython",
    "version": 3
   },
   "file_extension": ".py",
   "mimetype": "text/x-python",
   "name": "python",
   "nbconvert_exporter": "python",
   "pygments_lexer": "ipython3",
   "version": "3.9.16"
  },
  "orig_nbformat": 4
 },
 "nbformat": 4,
 "nbformat_minor": 2
}
