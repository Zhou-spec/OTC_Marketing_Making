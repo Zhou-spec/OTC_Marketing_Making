{
 "cells": [
  {
   "cell_type": "code",
   "execution_count": 1,
   "metadata": {},
   "outputs": [],
   "source": [
    "from functions import *\n",
    "import torch\n",
    "\n",
    "    \n",
    "net = Net(3)\n",
    "T = torch.tensor([1])\n",
    "dt = torch.tensor([0.01])\n",
    "S0 = torch.tensor([100])\n",
    "q = torch.tensor([0.01])\n",
    "A = torch.tensor([3, 4, 5])\n",
    "B = torch.tensor([0.01, 0.01, 0.01])\n",
    "Q = torch.tensor([100])\n",
    "z = torch.tensor([1, 2, 3])\n",
    "delta = torch.tensor([0.01])\n",
    "gamma = torch.tensor([0.01])\n",
    "sigma = torch.tensor([0.01])\n",
    "\n",
    "# use cuda if available\n",
    "device = torch.device(\"cuda:0\" if torch.cuda.is_available() else \"cpu\")\n",
    "net.to(device)\n",
    "T = T.to(device)\n",
    "dt = dt.to(device)\n",
    "S0 = S0.to(device)\n",
    "q = q.to(device)\n",
    "A = A.to(device)\n",
    "B = B.to(device)\n",
    "Q = Q.to(device)\n",
    "z = z.to(device)\n",
    "delta = delta.to(device)\n",
    "gamma = gamma.to(device)\n",
    "sigma = sigma.to(device)"
   ]
  },
  {
   "cell_type": "code",
   "execution_count": 7,
   "metadata": {},
   "outputs": [
    {
     "name": "stderr",
     "output_type": "stream",
     "text": [
      "c:\\Users\\specf\\anaconda3\\envs\\qids-2023-comp\\lib\\site-packages\\torch\\nn\\init.py:405: UserWarning: Initializing zero-element tensors is a no-op\n",
      "  warnings.warn(\"Initializing zero-element tensors is a no-op\")\n"
     ]
    }
   ],
   "source": [
    "class ConvNet(nn.Module):\n",
    "    def __init__(self, input_channels, num_classes):\n",
    "        super(ConvNet, self).__init__()\n",
    "        self.conv1 = nn.Conv1d(input_channels, 16, kernel_size=3, stride=1, padding=1)\n",
    "        self.relu1 = nn.ReLU()\n",
    "        self.maxpool1 = nn.MaxPool1d(kernel_size=2, stride=2)\n",
    "\n",
    "        self.conv2 = nn.Conv1d(16, 32, kernel_size=3, stride=1, padding=1)\n",
    "        self.relu2 = nn.ReLU()\n",
    "        self.maxpool2 = nn.MaxPool1d(kernel_size=2, stride=2)\n",
    "\n",
    "        self.fc1 = nn.Linear(32 * (input_channels // 4), 128)\n",
    "        self.relu3 = nn.ReLU()\n",
    "        self.fc2 = nn.Linear(128, num_classes)\n",
    "\n",
    "    def forward(self, x):\n",
    "        out = self.conv1(x)\n",
    "        out = self.relu1(out)\n",
    "        out = self.maxpool1(out)\n",
    "\n",
    "        out = self.conv2(out)\n",
    "        out = self.relu2(out)\n",
    "        out = self.maxpool2(out)\n",
    "\n",
    "        out = out.view(out.size(0), -1)  # Flatten the tensor\n",
    "        out = self.fc1(out)\n",
    "        out = self.relu3(out)\n",
    "        out = self.fc2(out)\n",
    "\n",
    "        return out\n",
    "\n",
    "# Example usage:\n",
    "input_channels = 3  # Number of input channels\n",
    "num_classes = 10  # Number of output classes\n",
    "\n",
    "net = ConvNet(input_channels, num_classes)\n"
   ]
  },
  {
   "cell_type": "code",
   "execution_count": 8,
   "metadata": {},
   "outputs": [
    {
     "ename": "TypeError",
     "evalue": "super(type, obj): obj must be an instance or subtype of type",
     "output_type": "error",
     "traceback": [
      "\u001b[1;31m---------------------------------------------------------------------------\u001b[0m",
      "\u001b[1;31mTypeError\u001b[0m                                 Traceback (most recent call last)",
      "Cell \u001b[1;32mIn[8], line 1\u001b[0m\n\u001b[1;32m----> 1\u001b[0m new_Net \u001b[39m=\u001b[39m ResNet_Conv(\u001b[39m1\u001b[39;49m)\n",
      "File \u001b[1;32mc:\\Users\\specf\\OneDrive\\Desktop\\OTC_Marketing_Making\\functions\\network.py:125\u001b[0m, in \u001b[0;36mResNet_Conv.__init__\u001b[1;34m(self, input_channels, num_classes)\u001b[0m\n\u001b[0;32m    124\u001b[0m \u001b[39mdef\u001b[39;00m \u001b[39m__init__\u001b[39m(\u001b[39mself\u001b[39m, input_channels, num_classes\u001b[39m=\u001b[39m\u001b[39m10\u001b[39m):\n\u001b[1;32m--> 125\u001b[0m     \u001b[39msuper\u001b[39;49m(ResNet, \u001b[39mself\u001b[39;49m)\u001b[39m.\u001b[39m\u001b[39m__init__\u001b[39m()\n\u001b[0;32m    126\u001b[0m     \u001b[39mself\u001b[39m\u001b[39m.\u001b[39mlinear \u001b[39m=\u001b[39m nn\u001b[39m.\u001b[39mLinear(input_channels, \u001b[39m64\u001b[39m)\n\u001b[0;32m    127\u001b[0m     \u001b[39mself\u001b[39m\u001b[39m.\u001b[39mrelu \u001b[39m=\u001b[39m nn\u001b[39m.\u001b[39mReLU()\n",
      "\u001b[1;31mTypeError\u001b[0m: super(type, obj): obj must be an instance or subtype of type"
     ]
    }
   ],
   "source": [
    "new_Net = ResNet_Conv(1)"
   ]
  },
  {
   "cell_type": "code",
   "execution_count": null,
   "metadata": {},
   "outputs": [],
   "source": []
  },
  {
   "cell_type": "code",
   "execution_count": 3,
   "metadata": {},
   "outputs": [
    {
     "data": {
      "text/plain": [
       "tensor([-10.4461], device='cuda:0', grad_fn=<AddBackward0>)"
      ]
     },
     "execution_count": 3,
     "metadata": {},
     "output_type": "execute_result"
    }
   ],
   "source": [
    "new_Net.to(device)\n",
    "new_Net(T, S0, q)"
   ]
  },
  {
   "cell_type": "code",
   "execution_count": 2,
   "metadata": {},
   "outputs": [
    {
     "data": {
      "text/plain": [
       "tensor(644.5459, device='cuda:0', grad_fn=<MulBackward0>)"
      ]
     },
     "execution_count": 2,
     "metadata": {},
     "output_type": "execute_result"
    }
   ],
   "source": [
    "S, buy_orders, sell_orders, q, t = Train_Data_Simulation(1, 0.01, 0.1, S0, A, B, Q, z, delta, gamma, net)\n",
    "total_loss(net, S, q, t, 0.001, buy_orders, sell_orders, z, delta, Q, A, B, gamma)"
   ]
  },
  {
   "cell_type": "code",
   "execution_count": 3,
   "metadata": {},
   "outputs": [
    {
     "name": "stdout",
     "output_type": "stream",
     "text": [
      "573.9168701171875\n",
      "758.518310546875\n",
      "572.6505737304688\n",
      "550.671875\n"
     ]
    },
    {
     "ename": "KeyboardInterrupt",
     "evalue": "",
     "output_type": "error",
     "traceback": [
      "\u001b[1;31m---------------------------------------------------------------------------\u001b[0m",
      "\u001b[1;31mKeyboardInterrupt\u001b[0m                         Traceback (most recent call last)",
      "Cell \u001b[1;32mIn[3], line 3\u001b[0m\n\u001b[0;32m      1\u001b[0m optimizer \u001b[39m=\u001b[39m torch\u001b[39m.\u001b[39moptim\u001b[39m.\u001b[39mAdam(net\u001b[39m.\u001b[39mparameters(), lr\u001b[39m=\u001b[39m\u001b[39m0.001\u001b[39m)\n\u001b[0;32m      2\u001b[0m \u001b[39mfor\u001b[39;00m epoch \u001b[39min\u001b[39;00m \u001b[39mrange\u001b[39m(\u001b[39m200\u001b[39m):\n\u001b[1;32m----> 3\u001b[0m     S, buy_orders, sell_orders, q, t \u001b[39m=\u001b[39m Train_Data_Simulation(\u001b[39m1\u001b[39;49m, \u001b[39m0.01\u001b[39;49m, \u001b[39m0.1\u001b[39;49m, S0, A, B, Q, z, delta, gamma, net)\n\u001b[0;32m      4\u001b[0m     loss \u001b[39m=\u001b[39m total_loss(net, S, q, t, \u001b[39m0.001\u001b[39m, buy_orders, sell_orders, z, delta, Q, A, B, gamma)\n\u001b[0;32m      5\u001b[0m     \u001b[39mprint\u001b[39m(loss\u001b[39m.\u001b[39mitem())\n",
      "File \u001b[1;32mc:\\Users\\specf\\OneDrive\\Desktop\\OTC_Marketing_Making\\functions\\simulation.py:107\u001b[0m, in \u001b[0;36mTrain_Data_Simulation\u001b[1;34m(T, dt, sigma, S0, A, B, Q, z, delta, gamma, net)\u001b[0m\n\u001b[0;32m    105\u001b[0m t \u001b[39m=\u001b[39m torch\u001b[39m.\u001b[39mzeros(N, device \u001b[39m=\u001b[39m device)\n\u001b[0;32m    106\u001b[0m \u001b[39mfor\u001b[39;00m i \u001b[39min\u001b[39;00m \u001b[39mrange\u001b[39m(N \u001b[39m-\u001b[39m \u001b[39m1\u001b[39m):\n\u001b[1;32m--> 107\u001b[0m     bid_vector, ask_vector \u001b[39m=\u001b[39m Gaussian_Policy(t[i], S[i], q[i], net, A, B, Q, z, delta, gamma)\n\u001b[0;32m    108\u001b[0m     buy_orders[i], sell_orders[i] \u001b[39m=\u001b[39m Market_Order_Generator(bid_vector, ask_vector, A, B, dt)\n\u001b[0;32m    109\u001b[0m     \u001b[39mfor\u001b[39;00m j \u001b[39min\u001b[39;00m \u001b[39mrange\u001b[39m(\u001b[39mlen\u001b[39m(A)):\n",
      "File \u001b[1;32mc:\\Users\\specf\\OneDrive\\Desktop\\OTC_Marketing_Making\\functions\\simulation.py:65\u001b[0m, in \u001b[0;36mGaussian_Policy\u001b[1;34m(t, S, q, net, A, B, Q, z, delta, gamma)\u001b[0m\n\u001b[0;32m     62\u001b[0m ask_vector \u001b[39m=\u001b[39m torch\u001b[39m.\u001b[39mzeros(N, device \u001b[39m=\u001b[39m device)\n\u001b[0;32m     64\u001b[0m \u001b[39mfor\u001b[39;00m i \u001b[39min\u001b[39;00m \u001b[39mrange\u001b[39m(N):\n\u001b[1;32m---> 65\u001b[0m     bid_mean \u001b[39m=\u001b[39m (A[i] \u001b[39m/\u001b[39m (\u001b[39m2\u001b[39m \u001b[39m*\u001b[39m B[i])) \u001b[39m-\u001b[39m (net\u001b[39m.\u001b[39mforward(t, S, q \u001b[39m+\u001b[39m z[i]) \u001b[39m-\u001b[39m net\u001b[39m.\u001b[39mforward(t, S, q) \u001b[39m+\u001b[39m z[i] \u001b[39m*\u001b[39m (S \u001b[39m+\u001b[39m delta \u001b[39m*\u001b[39m h(q, Q))) \u001b[39m/\u001b[39m (\u001b[39m2\u001b[39m \u001b[39m*\u001b[39m z[i])\n\u001b[0;32m     66\u001b[0m     ask_mean \u001b[39m=\u001b[39m (A[i] \u001b[39m/\u001b[39m (\u001b[39m2\u001b[39m \u001b[39m*\u001b[39m B[i])) \u001b[39m-\u001b[39m (net\u001b[39m.\u001b[39mforward(t, S, q \u001b[39m-\u001b[39m z[i]) \u001b[39m-\u001b[39m net\u001b[39m.\u001b[39mforward(t, S, q) \u001b[39m-\u001b[39m z[i] \u001b[39m*\u001b[39m (S \u001b[39m-\u001b[39m delta \u001b[39m*\u001b[39m h(q, Q))) \u001b[39m/\u001b[39m (\u001b[39m2\u001b[39m \u001b[39m*\u001b[39m z[i])\n\u001b[0;32m     67\u001b[0m     variance \u001b[39m=\u001b[39m gamma \u001b[39m/\u001b[39m (\u001b[39m2\u001b[39m \u001b[39m*\u001b[39m z[i] \u001b[39m*\u001b[39m B[i])\n",
      "File \u001b[1;32mc:\\Users\\specf\\OneDrive\\Desktop\\OTC_Marketing_Making\\functions\\simulation.py:27\u001b[0m, in \u001b[0;36mh\u001b[1;34m(q, Q)\u001b[0m\n\u001b[0;32m     21\u001b[0m \u001b[39mdef\u001b[39;00m \u001b[39mh\u001b[39m(q, Q):\n\u001b[0;32m     22\u001b[0m     \u001b[39m# q: the current inventory\u001b[39;00m\n\u001b[0;32m     23\u001b[0m     \u001b[39m# Q: the maximum inventory\u001b[39;00m\n\u001b[0;32m     24\u001b[0m     \u001b[39m# this function is used to decide weather to externalize the inventory or not\u001b[39;00m\n\u001b[0;32m     26\u001b[0m     device \u001b[39m=\u001b[39m torch\u001b[39m.\u001b[39mdevice(\u001b[39m\"\u001b[39m\u001b[39mcuda\u001b[39m\u001b[39m\"\u001b[39m \u001b[39mif\u001b[39;00m torch\u001b[39m.\u001b[39mcuda\u001b[39m.\u001b[39mis_available() \u001b[39melse\u001b[39;00m \u001b[39m\"\u001b[39m\u001b[39mcpu\u001b[39m\u001b[39m\"\u001b[39m)\n\u001b[1;32m---> 27\u001b[0m     \u001b[39mif\u001b[39;00m q \u001b[39m<\u001b[39m Q \u001b[39mand\u001b[39;00m q \u001b[39m>\u001b[39m \u001b[39m-\u001b[39;49m \u001b[39m1\u001b[39;49m \u001b[39m*\u001b[39;49m Q:\n\u001b[0;32m     28\u001b[0m         \u001b[39mreturn\u001b[39;00m torch\u001b[39m.\u001b[39mtensor([\u001b[39m0\u001b[39m], device \u001b[39m=\u001b[39m device)\n\u001b[0;32m     29\u001b[0m     \u001b[39melse\u001b[39;00m:\n",
      "\u001b[1;31mKeyboardInterrupt\u001b[0m: "
     ]
    }
   ],
   "source": [
    "optimizer = torch.optim.Adam(net.parameters(), lr=0.001)\n",
    "for epoch in range(200):\n",
    "    S, buy_orders, sell_orders, q, t = Train_Data_Simulation(1, 0.01, 0.1, S0, A, B, Q, z, delta, gamma, net)\n",
    "    loss = total_loss(net, S, q, t, 0.001, buy_orders, sell_orders, z, delta, Q, A, B, gamma)\n",
    "    print(loss.item())\n",
    "    optimizer.zero_grad()\n",
    "    loss.backward()\n",
    "    optimizer.step()"
   ]
  }
 ],
 "metadata": {
  "kernelspec": {
   "display_name": "qids-2023-comp",
   "language": "python",
   "name": "python3"
  },
  "language_info": {
   "codemirror_mode": {
    "name": "ipython",
    "version": 3
   },
   "file_extension": ".py",
   "mimetype": "text/x-python",
   "name": "python",
   "nbconvert_exporter": "python",
   "pygments_lexer": "ipython3",
   "version": "3.9.16"
  },
  "orig_nbformat": 4
 },
 "nbformat": 4,
 "nbformat_minor": 2
}
